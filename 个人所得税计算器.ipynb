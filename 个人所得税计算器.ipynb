{
 "cells": [
  {
   "cell_type": "code",
   "execution_count": 2,
   "metadata": {},
   "outputs": [
    {
     "name": "stdout",
     "output_type": "stream",
     "text": [
      "请输入税前工资(元)：20000\n",
      "请输入保险和公积金扣除金额(元)：1300\n",
      "请输入专项金额(元)：2300\n",
      "请输入缴税月份：6\n",
      "('本月缴税：1140.0', '本年累计缴税：4320.0', '本月工资：17560.0')\n"
     ]
    }
   ],
   "source": [
    "pay = input('请输入税前工资(元)：')\n",
    "insurance = input('请输入保险和公积金扣除金额(元)：')\n",
    "attach = input('请输入专项金额(元)：')\n",
    "month = input('请输入缴税月份：')\n",
    "\n",
    "def tax_amount(pay, insurance, attach, month):\n",
    "    deduction_amount_list = []\n",
    "    for i in range(month):\n",
    "        cardinal_number = (pay - 5000 - insurance - attach) * (i+1)\n",
    "        if cardinal_number <= 36000:\n",
    "            deduction_amount = cardinal_number * 0.03\n",
    "        elif 3600 < cardinal_number <= 144000:\n",
    "            deduction_amount = cardinal_number * 0.1 - 2520\n",
    "        elif 144000 < cardinal_number <= 300000:\n",
    "            deduction_amount = cardinal_number * 0.2 - 16920\n",
    "        elif 300000 < cardinal_number <= 420000:\n",
    "            deduction_amount = cardinal_number * 0.25 - 31920\n",
    "        elif 420000 < cardinal_number <= 660000:\n",
    "            deduction_amount = cardinal_number * 0.3 - 52920\n",
    "        elif 660000 < cardinal_number <= 960000:\n",
    "            deduction_amount = cardinal_number * 0.35 - 85920\n",
    "        elif 960000 < cardinal_number:\n",
    "            deduction_amount = cardinal_number * 0.45 - 181920\n",
    "        deduction_amount_list.append(deduction_amount)\n",
    "    if month == 1:\n",
    "        pay_taxes = deduction_amount_list[0]\n",
    "    else:\n",
    "        pay_taxes = deduction_amount_list[-1] - deduction_amount_list[-2]\n",
    "    if pay_taxes < 0:\n",
    "        pay_taxes = 0\n",
    "    pay_taxes_total = deduction_amount_list[-1]\n",
    "    if pay_taxes_total < 0:\n",
    "        pay_taxes_total = 0\n",
    "    wage = pay - pay_taxes - insurance\n",
    "    return('本月缴税：{}'.format(pay_taxes), '本年累计缴税：{}'.format(pay_taxes_total), '本月工资：{}'.format(wage))\n",
    "\n",
    "print(tax_amount(int(pay), int(insurance), int(attach), int(month)))"
   ]
  },
  {
   "cell_type": "code",
   "execution_count": 3,
   "metadata": {},
   "outputs": [
    {
     "data": {
      "text/plain": [
       "('本月缴税：2150.0', '本年累计缴税：3930.0', '本月工资：26650.0')"
      ]
     },
     "execution_count": 3,
     "metadata": {},
     "output_type": "execute_result"
    }
   ],
   "source": [
    "tax_amount(30000, 1200, 2300, 3)"
   ]
  },
  {
   "cell_type": "code",
   "execution_count": 4,
   "metadata": {},
   "outputs": [
    {
     "name": "stdout",
     "output_type": "stream",
     "text": [
      "原来还可以输入呐：厉害啊\n"
     ]
    }
   ],
   "source": [
    "pay = input('原来还可以输入呐：')"
   ]
  },
  {
   "cell_type": "code",
   "execution_count": 5,
   "metadata": {},
   "outputs": [
    {
     "name": "stdout",
     "output_type": "stream",
     "text": [
      "厉害啊\n"
     ]
    }
   ],
   "source": [
    "print(pay)"
   ]
  },
  {
   "cell_type": "code",
   "execution_count": null,
   "metadata": {},
   "outputs": [],
   "source": []
  }
 ],
 "metadata": {
  "kernelspec": {
   "display_name": "Python 3",
   "language": "python",
   "name": "python3"
  },
  "language_info": {
   "codemirror_mode": {
    "name": "ipython",
    "version": 3
   },
   "file_extension": ".py",
   "mimetype": "text/x-python",
   "name": "python",
   "nbconvert_exporter": "python",
   "pygments_lexer": "ipython3",
   "version": "3.7.4"
  }
 },
 "nbformat": 4,
 "nbformat_minor": 2
}
